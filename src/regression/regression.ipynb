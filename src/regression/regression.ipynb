{
 "cells": [
  {
   "cell_type": "code",
   "execution_count": 1,
   "id": "86647fdb",
   "metadata": {},
   "outputs": [],
   "source": [
    "import numpy as np\n",
    "import matplotlib.pyplot as plt\n",
    "from sklearn.linear_model import LinearRegression\n",
    "import pandas as pd\n",
    "import os"
   ]
  },
  {
   "cell_type": "code",
   "execution_count": 77,
   "id": "56314398",
   "metadata": {},
   "outputs": [
    {
     "name": "stdout",
     "output_type": "stream",
     "text": [
      "0         309.0\n",
      "1         323.0\n",
      "2         168.0\n",
      "3         358.0\n",
      "4         131.0\n",
      "          ...  \n",
      "15949      83.0\n",
      "15950      85.0\n",
      "15951      52.0\n",
      "15952      74.0\n",
      "15953    1244.0\n",
      "Name: delta, Length: 15954, dtype: float64\n"
     ]
    }
   ],
   "source": [
    "#load the data from the datasets\n",
    "apr_june = pd.read_csv('../../dataset_filtered/bus_times_q2.csv')\n",
    "jan_mar = pd.read_csv('../../dataset_filtered/bus_times_q1.csv', index_col=0)\n",
    "jul_sep = pd.read_csv('../../dataset_filtered/bus_times_q3.csv', index_col=0)\n",
    "oct_dec = pd.read_csv('../../dataset_filtered/bus_times_q1.csv', index_col=0)\n",
    "weather = pd.read_csv('../../dataset_filtered/weather.csv', index_col=0)\n",
    "\n",
    "\n",
    "def overlay_weather(bus_data, weather_data): \n",
    "    for _, row in bus_data.iterrows():\n",
    "        #High_f,low_f,precip_inches,snow_inches\n",
    "        #row['high_f'] = weather_data[]\n",
    "        print(\"hello\")\n",
    "    print(\"hello\")\n",
    "#done\n",
    "\n",
    "\n",
    "# Time is represented in seconds after midnight\n",
    "def linear_reg(data=apr_june):\n",
    "    apr_june['scheduled'] = pd.to_datetime(apr_june['scheduled'])\n",
    "    apr_june['actual'] = pd.to_datetime(apr_june['actual'])\n",
    "    #apr_june['scheduled'] = apr_june['scheduled'].dt.time\n",
    "    #apr_june['actual'] = apr_june['actual'].dt.time\n",
    "    apr_june['actual'] = (apr_june['actual'] - apr_june['actual'].dt.normalize()).dt.total_seconds()\n",
    "    apr_june['scheduled'] = (apr_june['scheduled'] - apr_june['scheduled'].dt.normalize()).dt.total_seconds()\n",
    "    X = (apr_june['scheduled']).to_numpy()\n",
    "    X = X.reshape((-1, 1))\n",
    "    y = (apr_june['actual']).to_numpy()\n",
    "    y = y.reshape((-1,1))\n",
    "    model = LinearRegression().fit(X, y)\n",
    "    r_sq = model.score(X, y)\n",
    "    print(f\"coefficient of determination: {r_sq}\")\n",
    "    print(f\"intercept: {model.intercept_}\")\n",
    "    print(f\"slope: {model.coef_}\")\n",
    "    y_pred = model.predict(X)\n",
    "    print(f\"predicted response:\\n{y_pred}\")\n",
    "\n",
    "\n",
    "\n",
    "\n",
    "#linear_reg(apr_june)"
   ]
  },
  {
   "cell_type": "code",
   "execution_count": 60,
   "id": "b91961da",
   "metadata": {
    "collapsed": false
   },
   "outputs": [
    {
     "name": "stdout",
     "output_type": "stream",
     "text": [
      "<class 'pandas.core.frame.DataFrame'>\n",
      "Index: 15847 entries, 2020-10-01 00:00:00.000 to 2020-12-31 00:00:00.000\n",
      "Data columns (total 11 columns):\n",
      " #   Column             Non-Null Count  Dtype  \n",
      "---  ------             --------------  -----  \n",
      " 0   direction          15847 non-null  object \n",
      " 1   half_trip_id       15847 non-null  float64\n",
      " 2   stop_id            15847 non-null  int64  \n",
      " 3   time_point_id      15847 non-null  object \n",
      " 4   time_point_order   15847 non-null  int64  \n",
      " 5   point_type         15847 non-null  object \n",
      " 6   standard_type      15847 non-null  object \n",
      " 7   scheduled          15847 non-null  object \n",
      " 8   actual             15847 non-null  object \n",
      " 9   scheduled_headway  15697 non-null  float64\n",
      " 10  headway            15697 non-null  float64\n",
      "dtypes: float64(3), int64(2), object(6)\n",
      "memory usage: 1.5+ MB\n",
      "None\n"
     ]
    }
   ],
   "source": [
    "\n"
   ]
  }
 ],
 "metadata": {
  "kernelspec": {
   "display_name": "base",
   "language": "python",
   "name": "python3"
  },
  "language_info": {
   "codemirror_mode": {
    "name": "ipython",
    "version": 3
   },
   "file_extension": ".py",
   "mimetype": "text/x-python",
   "name": "python",
   "nbconvert_exporter": "python",
   "pygments_lexer": "ipython3",
   "version": "3.9.12"
  },
  "vscode": {
   "interpreter": {
    "hash": "a971393e3ef546da1315d159095c81edb18dde4357621a8183b6dbdbaa955219"
   }
  }
 },
 "nbformat": 4,
 "nbformat_minor": 5
}
