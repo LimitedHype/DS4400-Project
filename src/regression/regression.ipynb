{
 "cells": [
  {
   "cell_type": "code",
   "execution_count": 34,
   "id": "86647fdb",
   "metadata": {},
   "outputs": [],
   "source": [
    "import numpy as np\n",
    "import matplotlib.pyplot as plt\n",
    "from sklearn.linear_model import LinearRegression\n",
    "import pandas as pd\n",
    "import os"
   ]
  },
  {
   "cell_type": "code",
   "execution_count": 27,
   "id": "56314398",
   "metadata": {},
   "outputs": [
    {
     "name": "stdout",
     "output_type": "stream",
     "text": [
      "coefficient of determination: 0.9384844297891006\n",
      "intercept: [1880.53617402]\n",
      "slope: [[0.96452776]]\n",
      "predicted response:\n",
      "[[20341.5975247 ]\n",
      " [21209.67250984]\n",
      " [22945.82248012]\n",
      " ...\n",
      " [ 4079.65946971]\n",
      " [ 4889.86278918]\n",
      " [ 5815.80944   ]]\n"
     ]
    }
   ],
   "source": [
    "#load the data from the datasets\n",
    "apr_june = pd.read_csv('../../dataset_filtered/bus_arrival_departure_northeastern_apr_june.csv')\n",
    "jan_mar = pd.read_csv('../../dataset_filtered/bus_arrival_departure_northeastern_jan_mar.csv')\n",
    "jul_sep = pd.read_csv('../../dataset_filtered/bus_arrival_departure_northeastern_jul_sep.csv')\n",
    "oct_dec = pd.read_csv('../../dataset_filtered/bus_arrival_departure_northeastern_oct_dec.csv')\n",
    "\n",
    "# Serivce Date => Day of Year mod 365\n",
    "# Time Actual\n",
    "#input = current time, weather, location,\n",
    "\n",
    "\n",
    "# Time is represented in seconds after midnight\n",
    "def linear_reg(data=apr_june):\n",
    "    apr_june['scheduled'] = pd.to_datetime(apr_june['scheduled'])\n",
    "    apr_june['actual'] = pd.to_datetime(apr_june['actual'])\n",
    "    #apr_june['scheduled'] = apr_june['scheduled'].dt.time\n",
    "    #apr_june['actual'] = apr_june['actual'].dt.time\n",
    "    apr_june['actual'] = (apr_june['actual'] - apr_june['actual'].dt.normalize()).dt.total_seconds()\n",
    "    apr_june['scheduled'] = (apr_june['scheduled'] - apr_june['scheduled'].dt.normalize()).dt.total_seconds()\n",
    "    X = (apr_june['scheduled']).to_numpy()\n",
    "    X = X.reshape((-1, 1))\n",
    "    y = (apr_june['actual']).to_numpy()\n",
    "    y = y.reshape((-1,1))\n",
    "    model = LinearRegression().fit(X, y)\n",
    "    r_sq = model.score(X, y)\n",
    "    print(f\"coefficient of determination: {r_sq}\")\n",
    "    print(f\"intercept: {model.intercept_}\")\n",
    "    print(f\"slope: {model.coef_}\")\n",
    "    y_pred = model.predict(X)\n",
    "    print(f\"predicted response:\\n{y_pred}\")\n",
    "\n",
    "\n",
    "\n",
    "\n",
    "linear_reg(apr_june)"
   ]
  },
  {
   "cell_type": "code",
   "execution_count": null,
   "id": "b91961da",
   "metadata": {
    "collapsed": false
   },
   "outputs": [],
   "source": []
  }
 ],
 "metadata": {
  "kernelspec": {
   "display_name": "Python 3",
   "language": "python",
   "name": "python3"
  },
  "language_info": {
   "codemirror_mode": {
    "name": "ipython",
    "version": 3
   },
   "file_extension": ".py",
   "mimetype": "text/x-python",
   "name": "python",
   "nbconvert_exporter": "python",
   "pygments_lexer": "ipython3",
   "version": "3.9.10"
  },
  "vscode": {
   "interpreter": {
    "hash": "aee8b7b246df8f9039afb4144a1f6fd8d2ca17a180786b69acc140d282b71a49"
   }
  }
 },
 "nbformat": 4,
 "nbformat_minor": 5
}
