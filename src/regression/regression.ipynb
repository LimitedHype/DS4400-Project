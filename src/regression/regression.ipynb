{
 "cells": [
  {
   "cell_type": "code",
   "execution_count": 17,
   "id": "86647fdb",
   "metadata": {},
   "outputs": [],
   "source": [
    "import numpy as np\n",
    "import matplotlib.pyplot as plt\n",
    "from sklearn.linear_model import LinearRegression\n",
    "from sklearn.metrics import mean_squared_error, mean_absolute_error\n",
    "np.set_printoptions(threshold=np.inf)"
   ]
  },
  {
   "cell_type": "code",
   "execution_count": 18,
   "id": "4f639e8f",
   "metadata": {},
   "outputs": [],
   "source": [
    "#Load simple encoded data\n",
    "X_simple_test = np.load('../../training_sets/Xtest_simple_set_data.npy', allow_pickle=True)\n",
    "X_simple_train = np.load('../../training_sets/Xtrain_simple_set_data.npy', allow_pickle=True)\n",
    "X_simple_val = np.load('../../training_sets/Xvalidate_simple_set_data.npy', allow_pickle=True)\n",
    "\n",
    "Y_simple_test = np.load('../../training_sets/Ytest_simple_set_data.npy', allow_pickle=True)\n",
    "Y_simple_train = np.load('../../training_sets/Ytrain_simple_set_data.npy', allow_pickle=True)\n",
    "Y_simple_val = np.load('../../training_sets/Yvalidate_simple_set_data.npy', allow_pickle=True)"
   ]
  },
  {
   "cell_type": "code",
   "execution_count": 19,
   "id": "fbf0ff89",
   "metadata": {},
   "outputs": [
    {
     "name": "stdout",
     "output_type": "stream",
     "text": [
      "0.159990826667878\n"
     ]
    }
   ],
   "source": [
    "# Train simple encoded features\n",
    "reg = LinearRegression().fit(X_simple_train, Y_simple_train)\n",
    "print(reg.score(X_simple_train, Y_simple_train))\n"
   ]
  },
  {
   "cell_type": "code",
   "execution_count": 20,
   "id": "32506c66",
   "metadata": {},
   "outputs": [
    {
     "name": "stdout",
     "output_type": "stream",
     "text": [
      "Mean squared error train: 39858.23\n",
      "Mean absolute error train: 142.39\n",
      "Mean squared error test: 29902.91\n",
      "Mean absolute error test: 125.67\n"
     ]
    }
   ],
   "source": [
    "# Make predictions using the training set\n",
    "y_pred = reg.predict(X_simple_train)\n",
    "print(\"Mean squared error train: %.2f\" % mean_squared_error(Y_simple_train, y_pred))\n",
    "print(\"Mean absolute error train: %.2f\" % mean_absolute_error(Y_simple_train, y_pred))\n",
    "\n",
    "# Make predictions using the testing set\n",
    "y_pred = reg.predict(X_simple_test)\n",
    "print(\"Mean squared error test: %.2f\" % mean_squared_error(Y_simple_test, y_pred))\n",
    "print(\"Mean absolute error test: %.2f\" % mean_absolute_error(Y_simple_test, y_pred))"
   ]
  },
  {
   "cell_type": "code",
   "execution_count": 21,
   "id": "0a3cd0c4",
   "metadata": {},
   "outputs": [],
   "source": [
    "#Load binary encoded data\n",
    "X_binary_test = np.load('../../training_sets/Xtest_binary_set_data.npy', allow_pickle=True)\n",
    "X_binary_train = np.load('../../training_sets/Xtrain_binary_set_data.npy', allow_pickle=True)\n",
    "X_binary_val = np.load('../../training_sets/Xvalidate_binary_set_data.npy', allow_pickle=True)\n",
    "\n",
    "Y_binary_test = np.load('../../training_sets/Ytest_binary_set_data.npy', allow_pickle=True)\n",
    "Y_binary_train = np.load('../../training_sets/Ytrain_binary_set_data.npy', allow_pickle=True)\n",
    "Y_binary_val = np.load('../../training_sets/Yvalidate_binary_set_data.npy', allow_pickle=True)"
   ]
  },
  {
   "cell_type": "code",
   "execution_count": 22,
   "id": "182e54d2",
   "metadata": {},
   "outputs": [
    {
     "name": "stdout",
     "output_type": "stream",
     "text": [
      "0.22326590169842675\n"
     ]
    }
   ],
   "source": [
    "# Train binary encoded features\n",
    "reg = LinearRegression().fit(X_binary_train, Y_binary_train)\n",
    "binary_reg = reg\n",
    "print(reg.score(X_binary_train, Y_binary_train))"
   ]
  },
  {
   "cell_type": "code",
   "execution_count": 23,
   "id": "7e45f002",
   "metadata": {},
   "outputs": [
    {
     "name": "stdout",
     "output_type": "stream",
     "text": [
      "Mean squared error train: 36855.84\n",
      "Mean absolute error train: 138.06\n",
      "Mean squared error test: 30849.09\n",
      "Mean absolute error test: 129.88\n"
     ]
    }
   ],
   "source": [
    "# Make predictions using the training set\n",
    "y_pred = reg.predict(X_binary_train)\n",
    "print(\"Mean squared error train: %.2f\" % mean_squared_error(Y_binary_train, y_pred))\n",
    "print(\"Mean absolute error train: %.2f\" % mean_absolute_error(Y_binary_train, y_pred))\n",
    "\n",
    "# Make predictions using the testing set\n",
    "y_pred = reg.predict(X_binary_test)\n",
    "print(\"Mean squared error test: %.2f\" % mean_squared_error(Y_binary_test, y_pred))\n",
    "print(\"Mean absolute error test: %.2f\" % mean_absolute_error(Y_binary_test, y_pred))"
   ]
  },
  {
   "cell_type": "code",
   "execution_count": 24,
   "id": "e0c2a7f5",
   "metadata": {},
   "outputs": [],
   "source": [
    "# Load positionally encoded data\n",
    "# This shouldn't be much different from the binary regression, just for fun though\n",
    "X_positional_test = np.load('../../training_sets/Xtest_positional_set_data.npy', allow_pickle=True)\n",
    "X_positional_train = np.load('../../training_sets/Xtrain_positional_set_data.npy', allow_pickle=True)\n",
    "X_positional_val = np.load('../../training_sets/Xvalidate_positional_set_data.npy', allow_pickle=True)\n",
    "\n",
    "Y_positional_test = np.load('../../training_sets/Ytest_positional_set_data.npy', allow_pickle=True)\n",
    "Y_positional_train = np.load('../../training_sets/Ytrain_positional_set_data.npy', allow_pickle=True)\n",
    "Y_positional_val = np.load('../../training_sets/Yvalidate_positional_set_data.npy', allow_pickle=True)"
   ]
  },
  {
   "cell_type": "code",
   "execution_count": 25,
   "id": "f123450f",
   "metadata": {},
   "outputs": [
    {
     "name": "stdout",
     "output_type": "stream",
     "text": [
      "0.22326625773956232\n"
     ]
    }
   ],
   "source": [
    "# Train positional encoded features\n",
    "reg = LinearRegression().fit(X_positional_train, Y_positional_train)\n",
    "print(reg.score(X_positional_train, Y_positional_train))"
   ]
  },
  {
   "cell_type": "code",
   "execution_count": 26,
   "id": "12c0890d",
   "metadata": {},
   "outputs": [
    {
     "name": "stdout",
     "output_type": "stream",
     "text": [
      "Mean squared error train: 36855.82\n",
      "Mean absolute error train: 138.05\n",
      "Mean squared error test: 30850.44\n",
      "Mean absolute error test: 129.87\n"
     ]
    }
   ],
   "source": [
    "# Make predictions using the training set\n",
    "y_pred = reg.predict(X_positional_train)\n",
    "print(\"Mean squared error train: %.2f\" % mean_squared_error(Y_positional_train, y_pred))\n",
    "print(\"Mean absolute error train: %.2f\" % mean_absolute_error(Y_positional_train, y_pred))\n",
    "\n",
    "# Make predictions using the testing set\n",
    "y_pred = reg.predict(X_positional_test)\n",
    "print(\"Mean squared error test: %.2f\" % mean_squared_error(Y_positional_test, y_pred))\n",
    "print(\"Mean absolute error test: %.2f\" % mean_absolute_error(Y_positional_test, y_pred))"
   ]
  },
  {
   "cell_type": "code",
   "execution_count": 28,
   "id": "09f63bd9",
   "metadata": {},
   "outputs": [
    {
     "name": "stdout",
     "output_type": "stream",
     "text": [
      "[160 165 145 147 157 153 142 143 158   5  15  16  17  20  18  19  21  22\n",
      "  23  24]\n",
      "[2.36953732e+12 2.36953732e+12 2.36953732e+12 2.36953732e+12\n",
      " 2.36953732e+12 2.36953733e+12 2.36953733e+12 2.36953733e+12\n",
      " 2.36953733e+12 4.79727607e+12 4.84304721e+12 4.84304721e+12\n",
      " 4.84304721e+12 4.84304721e+12 4.84304721e+12 4.84304721e+12\n",
      " 4.84304721e+12 4.84304721e+12 4.84304721e+12 4.84304721e+12]\n"
     ]
    }
   ],
   "source": [
    "# Analyze the weights\n",
    "# https://stackoverflow.com/questions/6910641/how-do-i-get-indices-of-n-maximum-values-in-a-numpy-array\n",
    "weights = binary_reg.coef_\n",
    "ind = np.argpartition(weights, -20)[-20:]\n",
    "top_20 = weights[ind]\n",
    "print(ind)\n",
    "print(top_20)"
   ]
  }
 ],
 "metadata": {
  "kernelspec": {
   "display_name": "machine-learning",
   "language": "python",
   "name": "python3"
  },
  "language_info": {
   "codemirror_mode": {
    "name": "ipython",
    "version": 3
   },
   "file_extension": ".py",
   "mimetype": "text/x-python",
   "name": "python",
   "nbconvert_exporter": "python",
   "pygments_lexer": "ipython3",
   "version": "3.10.6"
  },
  "vscode": {
   "interpreter": {
    "hash": "e26f6558b5f44af6558cb939c5048f22864e59775a9ef528c29944bba484633c"
   }
  }
 },
 "nbformat": 4,
 "nbformat_minor": 5
}
