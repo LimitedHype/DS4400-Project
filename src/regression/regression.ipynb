{
 "cells": [
  {
   "cell_type": "code",
   "execution_count": 1,
   "id": "86647fdb",
   "metadata": {},
   "outputs": [],
   "source": [
    "import numpy as np\n",
    "import matplotlib.pyplot as plt\n",
    "from sklearn.linear_model import LinearRegression\n",
    "import pandas as pd\n",
    "import os"
   ]
  },
  {
   "cell_type": "code",
   "execution_count": 21,
   "id": "56314398",
   "metadata": {},
   "outputs": [
    {
     "name": "stdout",
     "output_type": "stream",
     "text": [
      "   route_id direction  half_trip_id  stop_id time_point_id  time_point_order  \\\n",
      "0        39   Inbound    47228482.0    81317         nuniv               7.0   \n",
      "1        39   Inbound    47228497.0    81317         nuniv               7.0   \n",
      "2        39   Inbound    47228514.0    81317         nuniv               7.0   \n",
      "3        39   Inbound    47228484.0    81317         nuniv               7.0   \n",
      "4        39   Inbound    47228499.0    81317         nuniv               7.0   \n",
      "\n",
      "  point_type standard_type            scheduled               actual  \\\n",
      "0   Midpoint      Schedule  1900-01-01 05:19:00  1900-01-01 05:13:51   \n",
      "1   Midpoint       Headway  1900-01-01 05:34:00  1900-01-01 05:28:37   \n",
      "2   Midpoint       Headway  1900-01-01 06:04:00  1900-01-01 06:06:48   \n",
      "3   Midpoint       Headway  1900-01-01 06:19:00  1900-01-01 06:13:02   \n",
      "4   Midpoint       Headway  1900-01-01 06:34:00  1900-01-01 06:31:49   \n",
      "\n",
      "   scheduled_headway  headway  \n",
      "0                NaN      NaN  \n",
      "1              900.0    886.0  \n",
      "2              900.0      NaN  \n",
      "3              900.0    374.0  \n",
      "4              900.0   1127.0  \n"
     ]
    },
    {
     "ename": "KeyError",
     "evalue": "'service_date'",
     "output_type": "error",
     "traceback": [
      "\u001b[0;31m---------------------------------------------------------------------------\u001b[0m",
      "\u001b[0;31mKeyError\u001b[0m                                  Traceback (most recent call last)",
      "File \u001b[0;32m~/opt/anaconda3/lib/python3.9/site-packages/pandas/core/indexes/base.py:3803\u001b[0m, in \u001b[0;36mIndex.get_loc\u001b[0;34m(self, key, method, tolerance)\u001b[0m\n\u001b[1;32m   3802\u001b[0m \u001b[39mtry\u001b[39;00m:\n\u001b[0;32m-> 3803\u001b[0m     \u001b[39mreturn\u001b[39;00m \u001b[39mself\u001b[39;49m\u001b[39m.\u001b[39;49m_engine\u001b[39m.\u001b[39;49mget_loc(casted_key)\n\u001b[1;32m   3804\u001b[0m \u001b[39mexcept\u001b[39;00m \u001b[39mKeyError\u001b[39;00m \u001b[39mas\u001b[39;00m err:\n",
      "File \u001b[0;32m~/opt/anaconda3/lib/python3.9/site-packages/pandas/_libs/index.pyx:138\u001b[0m, in \u001b[0;36mpandas._libs.index.IndexEngine.get_loc\u001b[0;34m()\u001b[0m\n",
      "File \u001b[0;32m~/opt/anaconda3/lib/python3.9/site-packages/pandas/_libs/index.pyx:165\u001b[0m, in \u001b[0;36mpandas._libs.index.IndexEngine.get_loc\u001b[0;34m()\u001b[0m\n",
      "File \u001b[0;32mpandas/_libs/hashtable_class_helper.pxi:5745\u001b[0m, in \u001b[0;36mpandas._libs.hashtable.PyObjectHashTable.get_item\u001b[0;34m()\u001b[0m\n",
      "File \u001b[0;32mpandas/_libs/hashtable_class_helper.pxi:5753\u001b[0m, in \u001b[0;36mpandas._libs.hashtable.PyObjectHashTable.get_item\u001b[0;34m()\u001b[0m\n",
      "\u001b[0;31mKeyError\u001b[0m: 'service_date'",
      "\nThe above exception was the direct cause of the following exception:\n",
      "\u001b[0;31mKeyError\u001b[0m                                  Traceback (most recent call last)",
      "\u001b[1;32m/Users/charliedeane/DS4400-Project/src/regression/regression.ipynb Cell 2\u001b[0m in \u001b[0;36m<cell line: 35>\u001b[0;34m()\u001b[0m\n\u001b[1;32m     <a href='vscode-notebook-cell:/Users/charliedeane/DS4400-Project/src/regression/regression.ipynb#Y161sZmlsZQ%3D%3D?line=30'>31</a>\u001b[0m     \u001b[39mprint\u001b[39m(bus_data)\n\u001b[1;32m     <a href='vscode-notebook-cell:/Users/charliedeane/DS4400-Project/src/regression/regression.ipynb#Y161sZmlsZQ%3D%3D?line=33'>34</a>\u001b[0m relabel_weather(weather)\n\u001b[0;32m---> <a href='vscode-notebook-cell:/Users/charliedeane/DS4400-Project/src/regression/regression.ipynb#Y161sZmlsZQ%3D%3D?line=34'>35</a>\u001b[0m overlay_weather(apr_june, weather)\n\u001b[1;32m     <a href='vscode-notebook-cell:/Users/charliedeane/DS4400-Project/src/regression/regression.ipynb#Y161sZmlsZQ%3D%3D?line=36'>37</a>\u001b[0m \u001b[39m# Time is represented in seconds after midnight\u001b[39;00m\n\u001b[1;32m     <a href='vscode-notebook-cell:/Users/charliedeane/DS4400-Project/src/regression/regression.ipynb#Y161sZmlsZQ%3D%3D?line=37'>38</a>\u001b[0m \u001b[39mdef\u001b[39;00m \u001b[39mlinear_reg\u001b[39m(data\u001b[39m=\u001b[39mapr_june):\n",
      "\u001b[1;32m/Users/charliedeane/DS4400-Project/src/regression/regression.ipynb Cell 2\u001b[0m in \u001b[0;36moverlay_weather\u001b[0;34m(bus_data, weather_data)\u001b[0m\n\u001b[1;32m     <a href='vscode-notebook-cell:/Users/charliedeane/DS4400-Project/src/regression/regression.ipynb#Y161sZmlsZQ%3D%3D?line=24'>25</a>\u001b[0m \u001b[39mdef\u001b[39;00m \u001b[39moverlay_weather\u001b[39m(bus_data, weather_data): \n\u001b[0;32m---> <a href='vscode-notebook-cell:/Users/charliedeane/DS4400-Project/src/regression/regression.ipynb#Y161sZmlsZQ%3D%3D?line=25'>26</a>\u001b[0m     bus_data[\u001b[39m'\u001b[39m\u001b[39mservice_date\u001b[39m\u001b[39m'\u001b[39m] \u001b[39m=\u001b[39m pd\u001b[39m.\u001b[39mto_datetime(bus_data[\u001b[39m'\u001b[39;49m\u001b[39mservice_date\u001b[39;49m\u001b[39m'\u001b[39;49m])\n\u001b[1;32m     <a href='vscode-notebook-cell:/Users/charliedeane/DS4400-Project/src/regression/regression.ipynb#Y161sZmlsZQ%3D%3D?line=26'>27</a>\u001b[0m     bus_data[\u001b[39m'\u001b[39m\u001b[39mservice_date\u001b[39m\u001b[39m'\u001b[39m] \u001b[39m=\u001b[39m bus_data[\u001b[39m'\u001b[39m\u001b[39mservice_date\u001b[39m\u001b[39m'\u001b[39m]\u001b[39m.\u001b[39mdt\u001b[39m.\u001b[39mdate\n\u001b[1;32m     <a href='vscode-notebook-cell:/Users/charliedeane/DS4400-Project/src/regression/regression.ipynb#Y161sZmlsZQ%3D%3D?line=27'>28</a>\u001b[0m     \u001b[39mfor\u001b[39;00m _, row \u001b[39min\u001b[39;00m bus_data\u001b[39m.\u001b[39miterrows():\n\u001b[1;32m     <a href='vscode-notebook-cell:/Users/charliedeane/DS4400-Project/src/regression/regression.ipynb#Y161sZmlsZQ%3D%3D?line=28'>29</a>\u001b[0m         \u001b[39m#High_f,low_f,precip_inches,snow_inches\u001b[39;00m\n",
      "File \u001b[0;32m~/opt/anaconda3/lib/python3.9/site-packages/pandas/core/frame.py:3805\u001b[0m, in \u001b[0;36mDataFrame.__getitem__\u001b[0;34m(self, key)\u001b[0m\n\u001b[1;32m   3803\u001b[0m \u001b[39mif\u001b[39;00m \u001b[39mself\u001b[39m\u001b[39m.\u001b[39mcolumns\u001b[39m.\u001b[39mnlevels \u001b[39m>\u001b[39m \u001b[39m1\u001b[39m:\n\u001b[1;32m   3804\u001b[0m     \u001b[39mreturn\u001b[39;00m \u001b[39mself\u001b[39m\u001b[39m.\u001b[39m_getitem_multilevel(key)\n\u001b[0;32m-> 3805\u001b[0m indexer \u001b[39m=\u001b[39m \u001b[39mself\u001b[39;49m\u001b[39m.\u001b[39;49mcolumns\u001b[39m.\u001b[39;49mget_loc(key)\n\u001b[1;32m   3806\u001b[0m \u001b[39mif\u001b[39;00m is_integer(indexer):\n\u001b[1;32m   3807\u001b[0m     indexer \u001b[39m=\u001b[39m [indexer]\n",
      "File \u001b[0;32m~/opt/anaconda3/lib/python3.9/site-packages/pandas/core/indexes/base.py:3805\u001b[0m, in \u001b[0;36mIndex.get_loc\u001b[0;34m(self, key, method, tolerance)\u001b[0m\n\u001b[1;32m   3803\u001b[0m     \u001b[39mreturn\u001b[39;00m \u001b[39mself\u001b[39m\u001b[39m.\u001b[39m_engine\u001b[39m.\u001b[39mget_loc(casted_key)\n\u001b[1;32m   3804\u001b[0m \u001b[39mexcept\u001b[39;00m \u001b[39mKeyError\u001b[39;00m \u001b[39mas\u001b[39;00m err:\n\u001b[0;32m-> 3805\u001b[0m     \u001b[39mraise\u001b[39;00m \u001b[39mKeyError\u001b[39;00m(key) \u001b[39mfrom\u001b[39;00m \u001b[39merr\u001b[39;00m\n\u001b[1;32m   3806\u001b[0m \u001b[39mexcept\u001b[39;00m \u001b[39mTypeError\u001b[39;00m:\n\u001b[1;32m   3807\u001b[0m     \u001b[39m# If we have a listlike key, _check_indexing_error will raise\u001b[39;00m\n\u001b[1;32m   3808\u001b[0m     \u001b[39m#  InvalidIndexError. Otherwise we fall through and re-raise\u001b[39;00m\n\u001b[1;32m   3809\u001b[0m     \u001b[39m#  the TypeError.\u001b[39;00m\n\u001b[1;32m   3810\u001b[0m     \u001b[39mself\u001b[39m\u001b[39m.\u001b[39m_check_indexing_error(key)\n",
      "\u001b[0;31mKeyError\u001b[0m: 'service_date'"
     ]
    }
   ],
   "source": [
    "#load the data from the datasets\n",
    "apr_june = pd.read_csv('../../dataset_filtered/bus_times_q2.csv')\n",
    "jan_mar = pd.read_csv('../../dataset_filtered/bus_times_q1.csv')\n",
    "jul_sep = pd.read_csv('../../dataset_filtered/bus_times_q3.csv')\n",
    "oct_dec = pd.read_csv('../../dataset_filtered/bus_times_q4.csv')\n",
    "weather = pd.read_csv('../../dataset_filtered/weather.csv')\n",
    "\n",
    "# Serivce Date => Day of Year mod 365\n",
    "# Time Actual\n",
    "#input = current time, weather, location,\n",
    "\n",
    "print(apr_june.head())\n",
    "\n",
    "\n",
    "# We modify the original weather dataframe such that we invoke the datetime conversion on the ['day'] column\n",
    "def relabel_weather(weather_df): \n",
    "    weather_df['day'] = weather_df['day'].astype(str) + \"-2020\"\n",
    "    weather_df['day'] = pd.to_datetime(weather_df['day'])\n",
    "\n",
    "\n",
    "def extract_date(date): \n",
    "    print('hello')    \n",
    "#done \n",
    "\n",
    "def overlay_weather(bus_data, weather_data): \n",
    "    bus_data['service_date'] = pd.to_datetime(bus_data['service_date'])\n",
    "    bus_data['service_date'] = bus_data['service_date'].dt.date\n",
    "    for _, row in bus_data.iterrows():\n",
    "        #High_f,low_f,precip_inches,snow_inches\n",
    "        row['high_f'] = weather_data\n",
    "    print(bus_data)\n",
    "\n",
    "\n",
    "relabel_weather(weather)\n",
    "overlay_weather(apr_june, weather)\n",
    "\n",
    "# Time is represented in seconds after midnight\n",
    "def linear_reg(data=apr_june):\n",
    "    apr_june['scheduled'] = pd.to_datetime(apr_june['scheduled'])\n",
    "    apr_june['actual'] = pd.to_datetime(apr_june['actual'])\n",
    "    #apr_june['scheduled'] = apr_june['scheduled'].dt.time\n",
    "    #apr_june['actual'] = apr_june['actual'].dt.time\n",
    "    apr_june['actual'] = (apr_june['actual'] - apr_june['actual'].dt.normalize()).dt.total_seconds()\n",
    "    apr_june['scheduled'] = (apr_june['scheduled'] - apr_june['scheduled'].dt.normalize()).dt.total_seconds()\n",
    "    X = (apr_june['scheduled']).to_numpy()\n",
    "    X = X.reshape((-1, 1))\n",
    "    y = (apr_june['actual']).to_numpy()\n",
    "    y = y.reshape((-1,1))\n",
    "    model = LinearRegression().fit(X, y)\n",
    "    r_sq = model.score(X, y)\n",
    "    print(f\"coefficient of determination: {r_sq}\")\n",
    "    print(f\"intercept: {model.intercept_}\")\n",
    "    print(f\"slope: {model.coef_}\")\n",
    "    y_pred = model.predict(X)\n",
    "    print(f\"predicted response:\\n{y_pred}\")\n",
    "\n",
    "\n",
    "\n",
    "\n",
    "#linear_reg(apr_june)"
   ]
  },
  {
   "cell_type": "code",
   "execution_count": 20,
   "id": "b0262cbb",
   "metadata": {},
   "outputs": [
    {
     "name": "stdout",
     "output_type": "stream",
     "text": [
      "<class 'pandas.core.frame.DataFrame'>\n",
      "Int64Index: 15847 entries, 0 to 15846\n",
      "Data columns (total 12 columns):\n",
      " #   Column             Non-Null Count  Dtype  \n",
      "---  ------             --------------  -----  \n",
      " 0   route_id           15847 non-null  int64  \n",
      " 1   direction          15847 non-null  object \n",
      " 2   half_trip_id       15847 non-null  float64\n",
      " 3   stop_id            15847 non-null  int64  \n",
      " 4   time_point_id      15847 non-null  object \n",
      " 5   time_point_order   15847 non-null  int64  \n",
      " 6   point_type         15847 non-null  object \n",
      " 7   standard_type      15847 non-null  object \n",
      " 8   scheduled          15847 non-null  object \n",
      " 9   actual             15847 non-null  object \n",
      " 10  scheduled_headway  15697 non-null  float64\n",
      " 11  headway            15697 non-null  float64\n",
      "dtypes: float64(3), int64(3), object(6)\n",
      "memory usage: 1.6+ MB\n",
      "None\n"
     ]
    }
   ],
   "source": [
    "apr_june = pd.read_csv('../../dataset_filtered_local/bus_arrival_departure_northeastern_apr_june.csv')\n",
    "jan_mar = pd.read_csv('../../dataset_filtered_local/bus_arrival_departure_northeastern_jan_mar.csv')\n",
    "jul_sep = pd.read_csv('../../dataset_filtered_local/bus_arrival_departure_northeastern_jul_sep.csv')\n",
    "oct_dec = pd.read_csv('../../dataset_filtered/bus_times_q4.csv')\n",
    "\n",
    "def filter_missing_values(df, file_path): \n",
    "    df = df.drop(df.columns[[0]],axis = 1)\n",
    "    df = df[df['scheduled'].notnull() & df['actual'].notnull()]\n",
    "    print(df.info())\n",
    "    df.to_csv(f'../../dataset_filtered/{file_path}.csv', index=None)\n",
    "\n",
    "\n",
    "#filter_missing_values(apr_june, \"bus_times_q2\")\n",
    "#filter_missing_values(jan_mar, \"bus_times_q1\")\n",
    "#filter_missing_values(jul_sep, \"bus_times_q3\")\n",
    "filter_missing_values(oct_dec, \"bus_times_q4\")\n",
    "def normalize_columns(df=oct_dec, file_path='bus_times_q4'): \n",
    "    df = df.rename(columns={\"ServiceDate\" : \"service_date\" ,\"Route\" : \"route_id\",\"Direction\" : \"direction\", \"HalfTripId\" : \"half_trip_id\",\"Stop\" : \"stop_id\",\"Timepoint\" : \"time_point_id\",\"TimepointOrder\" : \"time_point_order\",\"PointType\" : \"point_type\",\"StandardType\" : \"standard_type\",\"Scheduled\" : \"scheduled\",\"Actual\" : \"actual\",\"ScheduledHeadway\" :\"scheduled_headway\" ,\"Headway\" : \"headway\"})\n",
    "    df.to_csv(f'../../dataset_filtered/{file_path}.csv', index=None)\n",
    "\n",
    "#normalize_columns()"
   ]
  },
  {
   "cell_type": "code",
   "execution_count": null,
   "id": "b91961da",
   "metadata": {
    "collapsed": false
   },
   "outputs": [],
   "source": []
  }
 ],
 "metadata": {
  "kernelspec": {
   "display_name": "base",
   "language": "python",
   "name": "python3"
  },
  "language_info": {
   "codemirror_mode": {
    "name": "ipython",
    "version": 3
   },
   "file_extension": ".py",
   "mimetype": "text/x-python",
   "name": "python",
   "nbconvert_exporter": "python",
   "pygments_lexer": "ipython3",
   "version": "3.9.12"
  },
  "vscode": {
   "interpreter": {
    "hash": "a971393e3ef546da1315d159095c81edb18dde4357621a8183b6dbdbaa955219"
   }
  }
 },
 "nbformat": 4,
 "nbformat_minor": 5
}
