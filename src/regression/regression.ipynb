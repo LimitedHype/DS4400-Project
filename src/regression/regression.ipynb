{
 "cells": [
  {
   "cell_type": "code",
   "execution_count": 127,
   "id": "86647fdb",
   "metadata": {},
   "outputs": [],
   "source": [
    "import numpy as np\n",
    "import matplotlib.pyplot as plt\n",
    "from sklearn.linear_model import LinearRegression\n",
    "from sklearn.metrics import mean_squared_error, mean_absolute_error"
   ]
  },
  {
   "cell_type": "code",
   "execution_count": 128,
   "id": "4f639e8f",
   "metadata": {},
   "outputs": [],
   "source": [
    "#Load simple encoded data\n",
    "X_simple_test = np.load('../../training_sets/Xtest_simple_set_data.npy', allow_pickle=True)\n",
    "X_simple_train = np.load('../../training_sets/Xtrain_simple_set_data.npy', allow_pickle=True)\n",
    "X_simple_val = np.load('../../training_sets/Xvalidate_simple_set_data.npy', allow_pickle=True)\n",
    "\n",
    "Y_simple_test = np.load('../../training_sets/Ytest_simple_set_data.npy', allow_pickle=True)\n",
    "Y_simple_train = np.load('../../training_sets/Ytrain_simple_set_data.npy', allow_pickle=True)\n",
    "Y_simple_val = np.load('../../training_sets/Yvalidate_simple_set_data.npy', allow_pickle=True)"
   ]
  },
  {
   "cell_type": "code",
   "execution_count": 129,
   "id": "fbf0ff89",
   "metadata": {},
   "outputs": [
    {
     "name": "stdout",
     "output_type": "stream",
     "text": [
      "0.159990826667878\n"
     ]
    }
   ],
   "source": [
    "# Train simple encoded features\n",
    "reg = LinearRegression().fit(X_simple_train, Y_simple_train)\n",
    "print(reg.score(X_simple_train, Y_simple_train))\n"
   ]
  },
  {
   "cell_type": "code",
   "execution_count": 130,
   "id": "32506c66",
   "metadata": {},
   "outputs": [
    {
     "name": "stdout",
     "output_type": "stream",
     "text": [
      "Mean squared error train: 39858.23\n",
      "Mean squared error test: 29902.91\n"
     ]
    }
   ],
   "source": [
    "# Make predictions using the training set\n",
    "y_pred = reg.predict(X_simple_train)\n",
    "print(\"Mean squared error train: %.2f\" % mean_squared_error(Y_simple_train, y_pred))\n",
    "print(\"Mean absolute error train: %.2f\" % mean_absolute_error(Y_simple_train, y_pred))\n",
    "\n",
    "# Make predictions using the testing set\n",
    "y_pred = reg.predict(X_simple_test)\n",
    "print(\"Mean squared error test: %.2f\" % mean_squared_error(Y_simple_test, y_pred))\n",
    "print(\"Mean absolute error test: %.2f\" % mean_absolute_error(Y_simple_test, y_pred))"
   ]
  },
  {
   "cell_type": "code",
   "execution_count": 131,
   "id": "0a3cd0c4",
   "metadata": {},
   "outputs": [],
   "source": [
    "#Load binary encoded data\n",
    "X_binary_test = np.load('../../training_sets/Xtest_binary_set_data.npy', allow_pickle=True)\n",
    "X_binary_train = np.load('../../training_sets/Xtrain_binary_set_data.npy', allow_pickle=True)\n",
    "X_binary_val = np.load('../../training_sets/Xvalidate_binary_set_data.npy', allow_pickle=True)\n",
    "\n",
    "Y_binary_test = np.load('../../training_sets/Ytest_binary_set_data.npy', allow_pickle=True)\n",
    "Y_binary_train = np.load('../../training_sets/Ytrain_binary_set_data.npy', allow_pickle=True)\n",
    "Y_binary_val = np.load('../../training_sets/Yvalidate_binary_set_data.npy', allow_pickle=True)"
   ]
  },
  {
   "cell_type": "code",
   "execution_count": 132,
   "id": "182e54d2",
   "metadata": {},
   "outputs": [
    {
     "name": "stdout",
     "output_type": "stream",
     "text": [
      "0.22326590169842675\n",
      "Mean squared error: 29902.91\n"
     ]
    }
   ],
   "source": [
    "# Train binary encoded features\n",
    "reg = LinearRegression().fit(X_binary_train, Y_binary_train)\n",
    "print(reg.score(X_binary_train, Y_binary_train))\n",
    "\n",
    "# print(\"Coefficients: \\n\", reg.coef_)\n",
    "print(\"Mean squared error: %.2f\" % mean_squared_error(Y_binary_test, y_pred))\n"
   ]
  },
  {
   "cell_type": "code",
   "execution_count": 133,
   "id": "e0c2a7f5",
   "metadata": {},
   "outputs": [],
   "source": [
    "# Load positionally encoded data\n",
    "# This shouldn't be much different from the binary regression, just for fun though\n",
    "X_test = np.load('../../training_sets/Xtest_positional_set_data.npy', allow_pickle=True)\n",
    "X_train = np.load('../../training_sets/Xtrain_positional_set_data.npy', allow_pickle=True)\n",
    "X_val = np.load('../../training_sets/Xvalidate_positional_set_data.npy', allow_pickle=True)\n",
    "\n",
    "Y_test = np.load('../../training_sets/Ytest_positional_set_data.npy', allow_pickle=True)\n",
    "Y_train = np.load('../../training_sets/Ytrain_positional_set_data.npy', allow_pickle=True)\n",
    "Y_val = np.load('../../training_sets/Yvalidate_positional_set_data.npy', allow_pickle=True)"
   ]
  },
  {
   "cell_type": "code",
   "execution_count": 134,
   "id": "f123450f",
   "metadata": {},
   "outputs": [
    {
     "data": {
      "text/plain": [
       "0.22326625773956232"
      ]
     },
     "execution_count": 134,
     "metadata": {},
     "output_type": "execute_result"
    }
   ],
   "source": [
    "# Train positional encoded features\n",
    "reg = LinearRegression().fit(X_train, Y_train)\n",
    "reg.score(X_train, Y_train)"
   ]
  }
 ],
 "metadata": {
  "kernelspec": {
   "display_name": "machine-learning",
   "language": "python",
   "name": "python3"
  },
  "language_info": {
   "codemirror_mode": {
    "name": "ipython",
    "version": 3
   },
   "file_extension": ".py",
   "mimetype": "text/x-python",
   "name": "python",
   "nbconvert_exporter": "python",
   "pygments_lexer": "ipython3",
   "version": "3.10.6"
  },
  "vscode": {
   "interpreter": {
    "hash": "e26f6558b5f44af6558cb939c5048f22864e59775a9ef528c29944bba484633c"
   }
  }
 },
 "nbformat": 4,
 "nbformat_minor": 5
}
