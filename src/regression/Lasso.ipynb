{
 "cells": [
  {
   "cell_type": "code",
   "execution_count": 1,
   "id": "86647fdb",
   "metadata": {},
   "outputs": [],
   "source": [
    "import numpy as np\n",
    "import matplotlib.pyplot as plt\n",
    "from sklearn.linear_model import Lasso\n",
    "from sklearn.metrics import mean_squared_error, mean_absolute_error"
   ]
  },
  {
   "cell_type": "code",
   "execution_count": 2,
   "id": "4f639e8f",
   "metadata": {},
   "outputs": [],
   "source": [
    "#NOTE: This actually performs worse than traditional regression\n",
    "#Load simple encoded data\n",
    "X_simple_test = np.load('../../training_sets/Xtest_simple_set_data.npy', allow_pickle=True)\n",
    "X_simple_train = np.load('../../training_sets/Xtrain_simple_set_data.npy', allow_pickle=True)\n",
    "X_simple_val = np.load('../../training_sets/Xvalidate_simple_set_data.npy', allow_pickle=True)\n",
    "\n",
    "Y_simple_test = np.load('../../training_sets/Ytest_simple_set_data.npy', allow_pickle=True)\n",
    "Y_simple_train = np.load('../../training_sets/Ytrain_simple_set_data.npy', allow_pickle=True)\n",
    "Y_simple_val = np.load('../../training_sets/Yvalidate_simple_set_data.npy', allow_pickle=True)"
   ]
  },
  {
   "cell_type": "code",
   "execution_count": 3,
   "id": "fbf0ff89",
   "metadata": {},
   "outputs": [
    {
     "name": "stdout",
     "output_type": "stream",
     "text": [
      "0.15964228218716547\n"
     ]
    }
   ],
   "source": [
    "# Train simple encoded features\n",
    "reg = Lasso().fit(X_simple_train, Y_simple_train)\n",
    "print(reg.score(X_simple_train, Y_simple_train))\n"
   ]
  },
  {
   "cell_type": "code",
   "execution_count": 4,
   "id": "32506c66",
   "metadata": {},
   "outputs": [
    {
     "name": "stdout",
     "output_type": "stream",
     "text": [
      "Mean squared error train: 39874.77\n",
      "Mean absolute error train: 142.40\n",
      "Mean squared error test: 29931.69\n",
      "Mean absolute error test: 125.73\n"
     ]
    }
   ],
   "source": [
    "# Make predictions using the training set\n",
    "y_pred = reg.predict(X_simple_train)\n",
    "print(\"Mean squared error train: %.2f\" % mean_squared_error(Y_simple_train, y_pred))\n",
    "print(\"Mean absolute error train: %.2f\" % mean_absolute_error(Y_simple_train, y_pred))\n",
    "\n",
    "# Make predictions using the testing set\n",
    "y_pred = reg.predict(X_simple_test)\n",
    "print(\"Mean squared error test: %.2f\" % mean_squared_error(Y_simple_test, y_pred))\n",
    "print(\"Mean absolute error test: %.2f\" % mean_absolute_error(Y_simple_test, y_pred))"
   ]
  },
  {
   "cell_type": "code",
   "execution_count": 5,
   "id": "0a3cd0c4",
   "metadata": {},
   "outputs": [],
   "source": [
    "#Load binary encoded data\n",
    "X_binary_test = np.load('../../training_sets/Xtest_binary_set_data.npy', allow_pickle=True)\n",
    "X_binary_train = np.load('../../training_sets/Xtrain_binary_set_data.npy', allow_pickle=True)\n",
    "X_binary_val = np.load('../../training_sets/Xvalidate_binary_set_data.npy', allow_pickle=True)\n",
    "\n",
    "Y_binary_test = np.load('../../training_sets/Ytest_binary_set_data.npy', allow_pickle=True)\n",
    "Y_binary_train = np.load('../../training_sets/Ytrain_binary_set_data.npy', allow_pickle=True)\n",
    "Y_binary_val = np.load('../../training_sets/Yvalidate_binary_set_data.npy', allow_pickle=True)"
   ]
  },
  {
   "cell_type": "code",
   "execution_count": 6,
   "id": "182e54d2",
   "metadata": {},
   "outputs": [
    {
     "name": "stdout",
     "output_type": "stream",
     "text": [
      "0.20528719631713366\n"
     ]
    }
   ],
   "source": [
    "# Train binary encoded features\n",
    "reg = Lasso().fit(X_binary_train, Y_binary_train)\n",
    "print(reg.score(X_binary_train, Y_binary_train))\n",
    "\n"
   ]
  },
  {
   "cell_type": "code",
   "execution_count": 7,
   "id": "7e45f002",
   "metadata": {},
   "outputs": [
    {
     "name": "stdout",
     "output_type": "stream",
     "text": [
      "Mean squared error train: 37708.93\n",
      "Mean absolute error train: 139.22\n",
      "Mean squared error test: 30030.44\n",
      "Mean absolute error test: 126.74\n"
     ]
    }
   ],
   "source": [
    "# Make predictions using the training set\n",
    "y_pred = reg.predict(X_binary_train)\n",
    "print(\"Mean squared error train: %.2f\" % mean_squared_error(Y_binary_train, y_pred))\n",
    "print(\"Mean absolute error train: %.2f\" % mean_absolute_error(Y_binary_train, y_pred))\n",
    "\n",
    "# Make predictions using the testing set\n",
    "y_pred = reg.predict(X_binary_test)\n",
    "print(\"Mean squared error test: %.2f\" % mean_squared_error(Y_binary_test, y_pred))\n",
    "print(\"Mean absolute error test: %.2f\" % mean_absolute_error(Y_binary_test, y_pred))"
   ]
  },
  {
   "cell_type": "code",
   "execution_count": 8,
   "id": "e0c2a7f5",
   "metadata": {},
   "outputs": [],
   "source": [
    "# Load positionally encoded data\n",
    "# This shouldn't be much different from the binary regression, just for fun though\n",
    "X_positional_test = np.load('../../training_sets/Xtest_positional_set_data.npy', allow_pickle=True)\n",
    "X_positional_train = np.load('../../training_sets/Xtrain_positional_set_data.npy', allow_pickle=True)\n",
    "X_positional_val = np.load('../../training_sets/Xvalidate_positional_set_data.npy', allow_pickle=True)\n",
    "\n",
    "Y_positional_test = np.load('../../training_sets/Ytest_positional_set_data.npy', allow_pickle=True)\n",
    "Y_positional_train = np.load('../../training_sets/Ytrain_positional_set_data.npy', allow_pickle=True)\n",
    "Y_positional_val = np.load('../../training_sets/Yvalidate_positional_set_data.npy', allow_pickle=True)"
   ]
  },
  {
   "cell_type": "code",
   "execution_count": 9,
   "id": "f123450f",
   "metadata": {},
   "outputs": [
    {
     "name": "stdout",
     "output_type": "stream",
     "text": [
      "0.2168557567461974\n"
     ]
    }
   ],
   "source": [
    "# Train positional encoded features\n",
    "reg = Lasso().fit(X_positional_train, Y_positional_train)\n",
    "print(reg.score(X_positional_train, Y_positional_train))"
   ]
  },
  {
   "cell_type": "code",
   "execution_count": 10,
   "id": "12c0890d",
   "metadata": {},
   "outputs": [
    {
     "name": "stdout",
     "output_type": "stream",
     "text": [
      "Mean squared error train: 37160.00\n",
      "Mean absolute error train: 138.14\n",
      "Mean squared error test: 30046.64\n",
      "Mean absolute error test: 126.59\n"
     ]
    }
   ],
   "source": [
    "# Make predictions using the training set\n",
    "y_pred = reg.predict(X_positional_train)\n",
    "print(\"Mean squared error train: %.2f\" % mean_squared_error(Y_positional_train, y_pred))\n",
    "print(\"Mean absolute error train: %.2f\" % mean_absolute_error(Y_positional_train, y_pred))\n",
    "\n",
    "# Make predictions using the testing set\n",
    "y_pred = reg.predict(X_positional_test)\n",
    "print(\"Mean squared error test: %.2f\" % mean_squared_error(Y_positional_test, y_pred))\n",
    "print(\"Mean absolute error test: %.2f\" % mean_absolute_error(Y_positional_test, y_pred))"
   ]
  }
 ],
 "metadata": {
  "kernelspec": {
   "display_name": "machine-learning",
   "language": "python",
   "name": "python3"
  },
  "language_info": {
   "codemirror_mode": {
    "name": "ipython",
    "version": 3
   },
   "file_extension": ".py",
   "mimetype": "text/x-python",
   "name": "python",
   "nbconvert_exporter": "python",
   "pygments_lexer": "ipython3",
   "version": "3.10.6"
  },
  "vscode": {
   "interpreter": {
    "hash": "e26f6558b5f44af6558cb939c5048f22864e59775a9ef528c29944bba484633c"
   }
  }
 },
 "nbformat": 4,
 "nbformat_minor": 5
}
