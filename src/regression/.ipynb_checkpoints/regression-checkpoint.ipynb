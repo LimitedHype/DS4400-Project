{
 "cells": [
  {
   "cell_type": "code",
   "execution_count": null,
   "id": "86647fdb",
   "metadata": {},
   "outputs": [],
   "source": [
    "import nump as np\n",
    "import matplotlib.pyplot as plt"
   ]
  },
  {
   "cell_type": "code",
   "execution_count": null,
   "id": "56314398",
   "metadata": {},
   "outputs": [],
   "source": [
    "#load the data from the datasets\n",
    "data = np.load('./datasets/bus_arrival_departure_northeastern.npz')\n"
   ]
  }
 ],
 "metadata": {
  "kernelspec": {
   "display_name": "Python 3 (ipykernel)",
   "language": "python",
   "name": "python3"
  },
  "language_info": {
   "codemirror_mode": {
    "name": "ipython",
    "version": 3
   },
   "file_extension": ".py",
   "mimetype": "text/x-python",
   "name": "python",
   "nbconvert_exporter": "python",
   "pygments_lexer": "ipython3",
   "version": "3.10.6"
  }
 },
 "nbformat": 4,
 "nbformat_minor": 5
}
