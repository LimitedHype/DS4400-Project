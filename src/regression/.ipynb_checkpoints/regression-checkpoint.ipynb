{
 "cells": [
  {
   "cell_type": "code",
   "execution_count": null,
   "id": "86647fdb",
   "metadata": {},
   "outputs": [],
   "source": [
    "import nump as np\n",
    "import matplotlib.pyplot as plt"
   ]
  },
  {
   "cell_type": "code",
   "execution_count": null,
   "id": "56314398",
   "metadata": {},
   "outputs": [],
   "source": [
    "#load the data from the datasets\n",
    "data = np.load('./datasets/bus_arrival_departure_northeastern.npz')\n"
   ]
  }
 ],
 "metadata": {
  "kernelspec": {
   "display_name": "base",
   "language": "python",
   "name": "python3"
  },
  "language_info": {
   "codemirror_mode": {
    "name": "ipython",
    "version": 3
   },
   "file_extension": ".py",
   "mimetype": "text/x-python",
   "name": "python",
   "nbconvert_exporter": "python",
   "pygments_lexer": "ipython3",
   "version": "3.9.12 (main, Apr  5 2022, 01:53:17) \n[Clang 12.0.0 ]"
  },
  "vscode": {
   "interpreter": {
    "hash": "a971393e3ef546da1315d159095c81edb18dde4357621a8183b6dbdbaa955219"
   }
  }
 },
 "nbformat": 4,
 "nbformat_minor": 5
}
